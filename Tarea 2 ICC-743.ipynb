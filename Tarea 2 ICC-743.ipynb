{
 "cells": [
  {
   "cell_type": "markdown",
   "id": "f7f2560e",
   "metadata": {},
   "source": [
    "# Pregunta 1\n",
    "Aplicar los conocimientos de las charlas en extender los conocimientos del curso estudiando un tópico."
   ]
  },
  {
   "cell_type": "markdown",
   "id": "57405e91",
   "metadata": {},
   "source": [
    "## Librerias"
   ]
  },
  {
   "cell_type": "code",
   "execution_count": 1,
   "id": "473633d9",
   "metadata": {},
   "outputs": [
    {
     "name": "stderr",
     "output_type": "stream",
     "text": [
      "C:\\Users\\paz_e\\anaconda3\\envs\\tensorflow2\\lib\\site-packages\\gensim\\similarities\\__init__.py:15: UserWarning: The gensim.similarities.levenshtein submodule is disabled, because the optional Levenshtein package <https://pypi.org/project/python-Levenshtein/> is unavailable. Install Levenhstein (e.g. `pip install python-Levenshtein`) to suppress this warning.\n",
      "  warnings.warn(msg)\n"
     ]
    }
   ],
   "source": [
    "from time import time\n",
    "import numpy as np\n",
    "import pandas as pd\n",
    "import os\n",
    "import nltk\n",
    "from gensim.models.word2vec import Word2Vec\n",
    "import sklearn\n",
    "from matplotlib import pyplot as plt"
   ]
  },
  {
   "cell_type": "markdown",
   "id": "5d0d9f6d",
   "metadata": {},
   "source": [
    "## Preprocesamiento\n",
    "Se sacan todos los símbolos y se lleva todo el texto a minúsculas."
   ]
  },
  {
   "cell_type": "code",
   "execution_count": 2,
   "id": "a5a226cb",
   "metadata": {},
   "outputs": [],
   "source": [
    "import re\n",
    "\n",
    "def preprocesador(text):\n",
    "    emoticons = re.findall('(?::|;|=)(?:-)?(?:\\)|\\(|D|P)', text)\n",
    "    text = (re.sub('[\\W]+', ' ', text.lower()) + ' '.join(emoticons).replace('-', ''))\n",
    "    text = text[:len(text)-1]\n",
    "    return text"
   ]
  },
  {
   "cell_type": "code",
   "execution_count": 3,
   "id": "07f93ff7",
   "metadata": {},
   "outputs": [],
   "source": [
    "df=pd.read_csv(r'C:\\Users\\paz_e\\Downloads\\movies_reviews.csv')"
   ]
  },
  {
   "cell_type": "code",
   "execution_count": 4,
   "id": "9d9f7a7b",
   "metadata": {},
   "outputs": [
    {
     "name": "stdout",
     "output_type": "stream",
     "text": [
      "Elapsed time: 7.0190670490 seconds.\n"
     ]
    }
   ],
   "source": [
    "#aplicamos preprocesador\n",
    "start_time = time()\n",
    "df['review'] = df['review'].apply(preprocesador)\n",
    "elapsed_time = time() - start_time\n",
    "print(\"Elapsed time: %0.10f seconds.\" % elapsed_time)"
   ]
  },
  {
   "cell_type": "code",
   "execution_count": 5,
   "id": "bdb4607c",
   "metadata": {},
   "outputs": [
    {
     "data": {
      "text/html": [
       "<div>\n",
       "<style scoped>\n",
       "    .dataframe tbody tr th:only-of-type {\n",
       "        vertical-align: middle;\n",
       "    }\n",
       "\n",
       "    .dataframe tbody tr th {\n",
       "        vertical-align: top;\n",
       "    }\n",
       "\n",
       "    .dataframe thead th {\n",
       "        text-align: right;\n",
       "    }\n",
       "</style>\n",
       "<table border=\"1\" class=\"dataframe\">\n",
       "  <thead>\n",
       "    <tr style=\"text-align: right;\">\n",
       "      <th></th>\n",
       "      <th>review</th>\n",
       "      <th>sentiment</th>\n",
       "    </tr>\n",
       "  </thead>\n",
       "  <tbody>\n",
       "    <tr>\n",
       "      <th>0</th>\n",
       "      <td>in 1974 the teenager martha moxley maggie grac...</td>\n",
       "      <td>1</td>\n",
       "    </tr>\n",
       "    <tr>\n",
       "      <th>1</th>\n",
       "      <td>ok so i really like kris kristofferson and his...</td>\n",
       "      <td>0</td>\n",
       "    </tr>\n",
       "    <tr>\n",
       "      <th>2</th>\n",
       "      <td>spoiler do not read this if you think about w...</td>\n",
       "      <td>0</td>\n",
       "    </tr>\n",
       "    <tr>\n",
       "      <th>3</th>\n",
       "      <td>hi for all the people who have seen this wonde...</td>\n",
       "      <td>1</td>\n",
       "    </tr>\n",
       "    <tr>\n",
       "      <th>4</th>\n",
       "      <td>i recently bought the dvd forgetting just how ...</td>\n",
       "      <td>0</td>\n",
       "    </tr>\n",
       "    <tr>\n",
       "      <th>...</th>\n",
       "      <td>...</td>\n",
       "      <td>...</td>\n",
       "    </tr>\n",
       "    <tr>\n",
       "      <th>49995</th>\n",
       "      <td>ok lets start with the best the building altho...</td>\n",
       "      <td>0</td>\n",
       "    </tr>\n",
       "    <tr>\n",
       "      <th>49996</th>\n",
       "      <td>the british heritage film industry is out of c...</td>\n",
       "      <td>0</td>\n",
       "    </tr>\n",
       "    <tr>\n",
       "      <th>49997</th>\n",
       "      <td>i don t even know where to begin on this one i...</td>\n",
       "      <td>0</td>\n",
       "    </tr>\n",
       "    <tr>\n",
       "      <th>49998</th>\n",
       "      <td>richard tyler is a little boy who is scared of...</td>\n",
       "      <td>0</td>\n",
       "    </tr>\n",
       "    <tr>\n",
       "      <th>49999</th>\n",
       "      <td>i waited long to watch this movie also because...</td>\n",
       "      <td>1</td>\n",
       "    </tr>\n",
       "  </tbody>\n",
       "</table>\n",
       "<p>50000 rows × 2 columns</p>\n",
       "</div>"
      ],
      "text/plain": [
       "                                                  review  sentiment\n",
       "0      in 1974 the teenager martha moxley maggie grac...          1\n",
       "1      ok so i really like kris kristofferson and his...          0\n",
       "2       spoiler do not read this if you think about w...          0\n",
       "3      hi for all the people who have seen this wonde...          1\n",
       "4      i recently bought the dvd forgetting just how ...          0\n",
       "...                                                  ...        ...\n",
       "49995  ok lets start with the best the building altho...          0\n",
       "49996  the british heritage film industry is out of c...          0\n",
       "49997  i don t even know where to begin on this one i...          0\n",
       "49998  richard tyler is a little boy who is scared of...          0\n",
       "49999  i waited long to watch this movie also because...          1\n",
       "\n",
       "[50000 rows x 2 columns]"
      ]
     },
     "execution_count": 5,
     "metadata": {},
     "output_type": "execute_result"
    }
   ],
   "source": [
    "df"
   ]
  },
  {
   "cell_type": "markdown",
   "id": "0d44f805",
   "metadata": {},
   "source": [
    "## Tokenización usando TFIDF"
   ]
  },
  {
   "cell_type": "code",
   "execution_count": 6,
   "id": "9f9b0e63",
   "metadata": {},
   "outputs": [
    {
     "name": "stdout",
     "output_type": "stream",
     "text": [
      "Elapsed time: 77.4079902172 seconds.\n"
     ]
    }
   ],
   "source": [
    "#tokenizamos con casual_tokenize y vectorizamos con tfidf\n",
    "start_time = time()\n",
    "from sklearn.feature_extraction.text import TfidfVectorizer\n",
    "from nltk.tokenize.casual import casual_tokenize\n",
    "\n",
    "#max_df=0.9 implica que no se tomarán en cuenta los tokens que aparezcan en más de 90% de las reviews\n",
    "#min_df=0.002 implica que no se tomarán en cuenta los tokens que aparezcan en menos de 0.002*50.000=100 reviews\n",
    "tfidf_model=TfidfVectorizer(tokenizer=casual_tokenize, max_df=0.9, min_df=0.002)\n",
    "\n",
    "tfidf_docs = tfidf_model.fit_transform(raw_documents=df.review).toarray()\n",
    "\n",
    "elapsed_time = time() - start_time\n",
    "print(\"Elapsed time: %0.10f seconds.\" % elapsed_time)"
   ]
  },
  {
   "cell_type": "markdown",
   "id": "fee82934",
   "metadata": {},
   "source": [
    "#matriz x\n",
    "tfidf_docs.shape"
   ]
  },
  {
   "cell_type": "markdown",
   "id": "95bf9750",
   "metadata": {},
   "source": [
    "### 50.000 reviews con 6375 tokens"
   ]
  },
  {
   "cell_type": "code",
   "execution_count": 8,
   "id": "b6e54a2b",
   "metadata": {},
   "outputs": [],
   "source": [
    "Prueba=tfidf_docs[:10]\n",
    "#este vector es para hacer 10 predicciones al final del jupyter"
   ]
  },
  {
   "cell_type": "markdown",
   "id": "1437147c",
   "metadata": {},
   "source": [
    "## Train y Test"
   ]
  },
  {
   "cell_type": "code",
   "execution_count": 9,
   "id": "2c0c54f2",
   "metadata": {},
   "outputs": [
    {
     "data": {
      "text/plain": [
       "25000"
      ]
     },
     "execution_count": 9,
     "metadata": {},
     "output_type": "execute_result"
    }
   ],
   "source": [
    "#¿Que es sentiment?\n",
    "#Al parecer 1= les gustó la pelicula, 0=no les gustó la pelicula\n",
    "#¿Cuantos 1 hay?, sumemos\n",
    "cont=0\n",
    "y=df['sentiment']\n",
    "for i in range(0,50000):\n",
    "  if y[i]==1:\n",
    "    cont=cont+1\n",
    "cont\n",
    "#hay 25000 reviews positivas"
   ]
  },
  {
   "cell_type": "code",
   "execution_count": 10,
   "id": "55b6155f",
   "metadata": {},
   "outputs": [],
   "source": [
    "from sklearn.model_selection import train_test_split\n",
    "\n",
    "x_train_MLP, x_test_MLP, y_train, y_test = train_test_split(tfidf_docs, df.sentiment, test_size=0.4, \n",
    "                                                    random_state=271828, stratify=df.sentiment)"
   ]
  },
  {
   "cell_type": "code",
   "execution_count": 11,
   "id": "07da79ec",
   "metadata": {},
   "outputs": [
    {
     "data": {
      "text/plain": [
       "(30000, 6379)"
      ]
     },
     "execution_count": 11,
     "metadata": {},
     "output_type": "execute_result"
    }
   ],
   "source": [
    "x_train_MLP.shape"
   ]
  },
  {
   "cell_type": "code",
   "execution_count": 12,
   "id": "276bc268",
   "metadata": {},
   "outputs": [
    {
     "name": "stdout",
     "output_type": "stream",
     "text": [
      "30000\n",
      "20000\n",
      "30000\n",
      "20000\n"
     ]
    }
   ],
   "source": [
    "print(len(x_train_MLP))\n",
    "print(len(x_test_MLP))\n",
    "print(len(y_train))\n",
    "print(len(y_test))"
   ]
  },
  {
   "cell_type": "markdown",
   "id": "f506432c",
   "metadata": {},
   "source": [
    "## MLP"
   ]
  },
  {
   "cell_type": "code",
   "execution_count": 13,
   "id": "691ed202",
   "metadata": {},
   "outputs": [
    {
     "data": {
      "text/plain": [
       "2"
      ]
     },
     "execution_count": 13,
     "metadata": {},
     "output_type": "execute_result"
    }
   ],
   "source": [
    "# compute the number of labels\n",
    "num_labels = len(np.unique(y_train))\n",
    "num_labels"
   ]
  },
  {
   "cell_type": "code",
   "execution_count": 14,
   "id": "4de9ac7c",
   "metadata": {},
   "outputs": [],
   "source": [
    "from keras.utils import to_categorical\n",
    "# llevamos los vectores a one hot\n",
    "y_train_MLP = to_categorical(y_train)\n",
    "y_test_MLP = to_categorical(y_test)"
   ]
  },
  {
   "cell_type": "code",
   "execution_count": 15,
   "id": "76b2bdb4",
   "metadata": {},
   "outputs": [],
   "source": [
    "#tamaño de entrada\n",
    "input_size = x_train_MLP.shape[1]\n",
    "\n",
    "# parametros\n",
    "\n",
    "batch_size = 256          #cantidad de datos usados para el metodo del gradiente    \n",
    "hidden_units = 32         #numero de neuronas en capas ocultas\n",
    "dropout = 0.45            #no se ajustaran el 45% de los pesos que menos afectaron en la propagación del error\n",
    "epochs = 4                #cantidad de veces que pasan los datos "
   ]
  },
  {
   "cell_type": "code",
   "execution_count": 16,
   "id": "2e5fae33",
   "metadata": {},
   "outputs": [],
   "source": [
    "from tensorflow.keras.models import Sequential\n",
    "from tensorflow.keras.layers import Dense, Activation, Dropout\n"
   ]
  },
  {
   "cell_type": "code",
   "execution_count": 17,
   "id": "d778f7fc",
   "metadata": {},
   "outputs": [
    {
     "name": "stdout",
     "output_type": "stream",
     "text": [
      "Model: \"sequential\"\n",
      "_________________________________________________________________\n",
      "Layer (type)                 Output Shape              Param #   \n",
      "=================================================================\n",
      "dense (Dense)                (None, 32)                204160    \n",
      "_________________________________________________________________\n",
      "activation (Activation)      (None, 32)                0         \n",
      "_________________________________________________________________\n",
      "dropout (Dropout)            (None, 32)                0         \n",
      "_________________________________________________________________\n",
      "dense_1 (Dense)              (None, 2)                 66        \n",
      "_________________________________________________________________\n",
      "activation_1 (Activation)    (None, 2)                 0         \n",
      "=================================================================\n",
      "Total params: 204,226\n",
      "Trainable params: 204,226\n",
      "Non-trainable params: 0\n",
      "_________________________________________________________________\n"
     ]
    }
   ],
   "source": [
    "#arquitectura de la red\n",
    "model1 = Sequential()\n",
    "model1.add(Dense(hidden_units, input_dim=input_size))\n",
    "model1.add(Activation('relu'))                            #función de activación relu: max(0,x)\n",
    "model1.add(Dropout(dropout))\n",
    "model1.add(Dense(num_labels))\n",
    "model1.add(Activation('softmax'))\n",
    "model1.summary()"
   ]
  },
  {
   "cell_type": "markdown",
   "id": "6f91e140",
   "metadata": {},
   "source": [
    "## Comprobando como se calculan el número de parámetros"
   ]
  },
  {
   "cell_type": "code",
   "execution_count": 18,
   "id": "1d4f27c6",
   "metadata": {},
   "outputs": [
    {
     "data": {
      "text/plain": [
       "204160"
      ]
     },
     "execution_count": 18,
     "metadata": {},
     "output_type": "execute_result"
    }
   ],
   "source": [
    "#dense =hidden units*(tokens+sesgo)\n",
    "32*(6379+1)"
   ]
  },
  {
   "cell_type": "code",
   "execution_count": 19,
   "id": "489b9102",
   "metadata": {},
   "outputs": [
    {
     "data": {
      "text/plain": [
       "66"
      ]
     },
     "execution_count": 19,
     "metadata": {},
     "output_type": "execute_result"
    }
   ],
   "source": [
    "#dense_1=(hidden_dims+sesgo)*num_labels\n",
    "(32+1)*2"
   ]
  },
  {
   "cell_type": "markdown",
   "id": "7a3ed71a",
   "metadata": {},
   "source": [
    "## K-fold\n",
    "Para probar que los resultados no están sesgados a la elección de train y test."
   ]
  },
  {
   "cell_type": "code",
   "execution_count": 20,
   "id": "e644358c",
   "metadata": {},
   "outputs": [],
   "source": [
    "# se devuelven los vectores a su forma original\n",
    "y_train=np.squeeze(np.asarray(y_train))\n",
    "y_test=np.squeeze(np.asarray(y_test))"
   ]
  },
  {
   "cell_type": "code",
   "execution_count": 21,
   "id": "142450e0",
   "metadata": {},
   "outputs": [
    {
     "data": {
      "text/plain": [
       "array([1, 1, 0, ..., 1, 0, 0], dtype=int64)"
      ]
     },
     "execution_count": 21,
     "metadata": {},
     "output_type": "execute_result"
    }
   ],
   "source": [
    "y_train"
   ]
  },
  {
   "cell_type": "code",
   "execution_count": 22,
   "id": "01a968e8",
   "metadata": {},
   "outputs": [
    {
     "data": {
      "text/plain": [
       "array([1, 1, 1, ..., 0, 0, 1], dtype=int64)"
      ]
     },
     "execution_count": 22,
     "metadata": {},
     "output_type": "execute_result"
    }
   ],
   "source": [
    "y_test"
   ]
  },
  {
   "cell_type": "code",
   "execution_count": 23,
   "id": "e258011e",
   "metadata": {
    "scrolled": true
   },
   "outputs": [
    {
     "name": "stdout",
     "output_type": "stream",
     "text": [
      "Model: \"sequential_1\"\n",
      "_________________________________________________________________\n",
      "Layer (type)                 Output Shape              Param #   \n",
      "=================================================================\n",
      "dense_2 (Dense)              (None, 32)                204160    \n",
      "_________________________________________________________________\n",
      "activation_2 (Activation)    (None, 32)                0         \n",
      "_________________________________________________________________\n",
      "dropout_1 (Dropout)          (None, 32)                0         \n",
      "_________________________________________________________________\n",
      "dense_3 (Dense)              (None, 2)                 66        \n",
      "_________________________________________________________________\n",
      "activation_3 (Activation)    (None, 2)                 0         \n",
      "=================================================================\n",
      "Total params: 204,226\n",
      "Trainable params: 204,226\n",
      "Non-trainable params: 0\n",
      "_________________________________________________________________\n",
      "Epoch 1/4\n",
      "94/94 [==============================] - 1s 14ms/step - loss: 0.5839 - accuracy: 0.7743 - val_loss: 0.4531 - val_accuracy: 0.8601\n",
      "Epoch 2/4\n",
      "94/94 [==============================] - 1s 10ms/step - loss: 0.3730 - accuracy: 0.8732 - val_loss: 0.3251 - val_accuracy: 0.8812\n",
      "Epoch 3/4\n",
      "94/94 [==============================] - 1s 10ms/step - loss: 0.2829 - accuracy: 0.8974 - val_loss: 0.2812 - val_accuracy: 0.8895\n",
      "Epoch 4/4\n",
      "94/94 [==============================] - 1s 10ms/step - loss: 0.2394 - accuracy: 0.9130 - val_loss: 0.2657 - val_accuracy: 0.8910\n",
      "188/188 [==============================] - 0s 2ms/step - loss: 0.2572 - accuracy: 0.8950\n",
      "WARNING:tensorflow:From <ipython-input-23-89c3f8764a29>:25: Sequential.predict_classes (from tensorflow.python.keras.engine.sequential) is deprecated and will be removed after 2021-01-01.\n",
      "Instructions for updating:\n",
      "Please use instead:* `np.argmax(model.predict(x), axis=-1)`,   if your model does multi-class classification   (e.g. if it uses a `softmax` last-layer activation).* `(model.predict(x) > 0.5).astype(\"int32\")`,   if your model does binary classification   (e.g. if it uses a `sigmoid` last-layer activation).\n"
     ]
    },
    {
     "data": {
      "image/png": "[encoded data removed]",
      "text/plain": [
       "<Figure size 432x288 with 1 Axes>"
      ]
     },
     "metadata": {
      "needs_background": "light"
     },
     "output_type": "display_data"
    },
    {
     "data": {
      "image/png": "[encoded data removed]",
      "text/plain": [
       "<Figure size 432x288 with 1 Axes>"
      ]
     },
     "metadata": {
      "needs_background": "light"
     },
     "output_type": "display_data"
    },
    {
     "name": "stdout",
     "output_type": "stream",
     "text": [
      "Fold:  1, Class dist.: [12000 12000], Acc: 0.895\n",
      "Fold:  1, F1: 0.892\n",
      "Fold:  1, Accuracy_: 0.891\n",
      "Model: \"sequential_2\"\n",
      "_________________________________________________________________\n",
      "Layer (type)                 Output Shape              Param #   \n",
      "=================================================================\n",
      "dense_4 (Dense)              (None, 32)                204160    \n",
      "_________________________________________________________________\n",
      "activation_4 (Activation)    (None, 32)                0         \n",
      "_________________________________________________________________\n",
      "dropout_2 (Dropout)          (None, 32)                0         \n",
      "_________________________________________________________________\n",
      "dense_5 (Dense)              (None, 2)                 66        \n",
      "_________________________________________________________________\n",
      "activation_5 (Activation)    (None, 2)                 0         \n",
      "=================================================================\n",
      "Total params: 204,226\n",
      "Trainable params: 204,226\n",
      "Non-trainable params: 0\n",
      "_________________________________________________________________\n",
      "Epoch 1/4\n",
      "94/94 [==============================] - 1s 14ms/step - loss: 0.5828 - accuracy: 0.7717 - val_loss: 0.4492 - val_accuracy: 0.8628\n",
      "Epoch 2/4\n",
      "94/94 [==============================] - 1s 10ms/step - loss: 0.3694 - accuracy: 0.8731 - val_loss: 0.3219 - val_accuracy: 0.8808\n",
      "Epoch 3/4\n",
      "94/94 [==============================] - 1s 10ms/step - loss: 0.2792 - accuracy: 0.8990 - val_loss: 0.2821 - val_accuracy: 0.8879\n",
      "Epoch 4/4\n",
      "94/94 [==============================] - 1s 10ms/step - loss: 0.2369 - accuracy: 0.9137 - val_loss: 0.2663 - val_accuracy: 0.8917\n",
      "188/188 [==============================] - 0s 2ms/step - loss: 0.2613 - accuracy: 0.8918\n"
     ]
    },
    {
     "data": {
      "image/png": "[encoded data removed]",
      "text/plain": [
       "<Figure size 432x288 with 1 Axes>"
      ]
     },
     "metadata": {
      "needs_background": "light"
     },
     "output_type": "display_data"
    },
    {
     "data": {
      "image/png": "[encoded data removed]",
      "text/plain": [
       "<Figure size 432x288 with 1 Axes>"
      ]
     },
     "metadata": {
      "needs_background": "light"
     },
     "output_type": "display_data"
    },
    {
     "name": "stdout",
     "output_type": "stream",
     "text": [
      "Fold:  2, Class dist.: [12000 12000], Acc: 0.892\n",
      "Fold:  2, F1: 0.893\n",
      "Fold:  2, Accuracy_: 0.892\n",
      "Model: \"sequential_3\"\n",
      "_________________________________________________________________\n",
      "Layer (type)                 Output Shape              Param #   \n",
      "=================================================================\n",
      "dense_6 (Dense)              (None, 32)                204160    \n",
      "_________________________________________________________________\n",
      "activation_6 (Activation)    (None, 32)                0         \n",
      "_________________________________________________________________\n",
      "dropout_3 (Dropout)          (None, 32)                0         \n",
      "_________________________________________________________________\n",
      "dense_7 (Dense)              (None, 2)                 66        \n",
      "_________________________________________________________________\n",
      "activation_7 (Activation)    (None, 2)                 0         \n",
      "=================================================================\n",
      "Total params: 204,226\n",
      "Trainable params: 204,226\n",
      "Non-trainable params: 0\n",
      "_________________________________________________________________\n",
      "Epoch 1/4\n",
      "94/94 [==============================] - 1s 14ms/step - loss: 0.5676 - accuracy: 0.7883 - val_loss: 0.4368 - val_accuracy: 0.8606\n",
      "Epoch 2/4\n",
      "94/94 [==============================] - 1s 10ms/step - loss: 0.3586 - accuracy: 0.8763 - val_loss: 0.3192 - val_accuracy: 0.8814\n",
      "Epoch 3/4\n",
      "94/94 [==============================] - 1s 10ms/step - loss: 0.2756 - accuracy: 0.9006 - val_loss: 0.2804 - val_accuracy: 0.8885\n",
      "Epoch 4/4\n",
      "94/94 [==============================] - 1s 10ms/step - loss: 0.2332 - accuracy: 0.9143 - val_loss: 0.2656 - val_accuracy: 0.8911\n",
      "188/188 [==============================] - 0s 2ms/step - loss: 0.2704 - accuracy: 0.8943\n"
     ]
    },
    {
     "data": {
      "image/png": "[encoded data removed]",
      "text/plain": [
       "<Figure size 432x288 with 1 Axes>"
      ]
     },
     "metadata": {
      "needs_background": "light"
     },
     "output_type": "display_data"
    },
    {
     "data": {
      "image/png": "[encoded data removed]",
      "text/plain": [
       "<Figure size 432x288 with 1 Axes>"
      ]
     },
     "metadata": {
      "needs_background": "light"
     },
     "output_type": "display_data"
    },
    {
     "name": "stdout",
     "output_type": "stream",
     "text": [
      "Fold:  3, Class dist.: [12000 12000], Acc: 0.894\n",
      "Fold:  3, F1: 0.892\n",
      "Fold:  3, Accuracy_: 0.891\n",
      "Model: \"sequential_4\"\n",
      "_________________________________________________________________\n",
      "Layer (type)                 Output Shape              Param #   \n",
      "=================================================================\n",
      "dense_8 (Dense)              (None, 32)                204160    \n",
      "_________________________________________________________________\n",
      "activation_8 (Activation)    (None, 32)                0         \n",
      "_________________________________________________________________\n",
      "dropout_4 (Dropout)          (None, 32)                0         \n",
      "_________________________________________________________________\n",
      "dense_9 (Dense)              (None, 2)                 66        \n",
      "_________________________________________________________________\n",
      "activation_9 (Activation)    (None, 2)                 0         \n",
      "=================================================================\n",
      "Total params: 204,226\n",
      "Trainable params: 204,226\n",
      "Non-trainable params: 0\n",
      "_________________________________________________________________\n",
      "Epoch 1/4\n",
      "94/94 [==============================] - 1s 14ms/step - loss: 0.5732 - accuracy: 0.7833 - val_loss: 0.4420 - val_accuracy: 0.8605\n",
      "Epoch 2/4\n",
      "94/94 [==============================] - 1s 10ms/step - loss: 0.3673 - accuracy: 0.8710 - val_loss: 0.3200 - val_accuracy: 0.8817\n",
      "Epoch 3/4\n",
      "94/94 [==============================] - 1s 10ms/step - loss: 0.2808 - accuracy: 0.8977 - val_loss: 0.2796 - val_accuracy: 0.8892\n",
      "Epoch 4/4\n",
      "94/94 [==============================] - 1s 9ms/step - loss: 0.2386 - accuracy: 0.9133 - val_loss: 0.2649 - val_accuracy: 0.8917\n",
      "188/188 [==============================] - 0s 2ms/step - loss: 0.2511 - accuracy: 0.8968\n"
     ]
    },
    {
     "data": {
      "image/png": "[encoded data removed]",
      "text/plain": [
       "<Figure size 432x288 with 1 Axes>"
      ]
     },
     "metadata": {
      "needs_background": "light"
     },
     "output_type": "display_data"
    },
    {
     "data": {
      "image/png": "[encoded data removed]",
      "text/plain": [
       "<Figure size 432x288 with 1 Axes>"
      ]
     },
     "metadata": {
      "needs_background": "light"
     },
     "output_type": "display_data"
    },
    {
     "name": "stdout",
     "output_type": "stream",
     "text": [
      "Fold:  4, Class dist.: [12000 12000], Acc: 0.897\n",
      "Fold:  4, F1: 0.892\n",
      "Fold:  4, Accuracy_: 0.892\n",
      "Model: \"sequential_5\"\n",
      "_________________________________________________________________\n",
      "Layer (type)                 Output Shape              Param #   \n",
      "=================================================================\n",
      "dense_10 (Dense)             (None, 32)                204160    \n",
      "_________________________________________________________________\n",
      "activation_10 (Activation)   (None, 32)                0         \n",
      "_________________________________________________________________\n",
      "dropout_5 (Dropout)          (None, 32)                0         \n",
      "_________________________________________________________________\n",
      "dense_11 (Dense)             (None, 2)                 66        \n",
      "_________________________________________________________________\n",
      "activation_11 (Activation)   (None, 2)                 0         \n",
      "=================================================================\n",
      "Total params: 204,226\n",
      "Trainable params: 204,226\n",
      "Non-trainable params: 0\n",
      "_________________________________________________________________\n",
      "Epoch 1/4\n",
      "94/94 [==============================] - 1s 14ms/step - loss: 0.5796 - accuracy: 0.7825 - val_loss: 0.4489 - val_accuracy: 0.8586\n",
      "Epoch 2/4\n",
      "94/94 [==============================] - 1s 10ms/step - loss: 0.3695 - accuracy: 0.8732 - val_loss: 0.3223 - val_accuracy: 0.8824\n",
      "Epoch 3/4\n",
      "94/94 [==============================] - 1s 10ms/step - loss: 0.2792 - accuracy: 0.8991 - val_loss: 0.2815 - val_accuracy: 0.8904\n",
      "Epoch 4/4\n",
      "94/94 [==============================] - 1s 10ms/step - loss: 0.2357 - accuracy: 0.9148 - val_loss: 0.2667 - val_accuracy: 0.8911\n",
      "188/188 [==============================] - 0s 2ms/step - loss: 0.2595 - accuracy: 0.8923\n"
     ]
    },
    {
     "data": {
      "image/png": "[encoded data removed]",
      "text/plain": [
       "<Figure size 432x288 with 1 Axes>"
      ]
     },
     "metadata": {
      "needs_background": "light"
     },
     "output_type": "display_data"
    },
    {
     "data": {
      "image/png": "[encoded data removed]",
      "text/plain": [
       "<Figure size 432x288 with 1 Axes>"
      ]
     },
     "metadata": {
      "needs_background": "light"
     },
     "output_type": "display_data"
    },
    {
     "name": "stdout",
     "output_type": "stream",
     "text": [
      "Fold:  5, Class dist.: [12000 12000], Acc: 0.892\n",
      "Fold:  5, F1: 0.892\n",
      "Fold:  5, Accuracy_: 0.891\n"
     ]
    }
   ],
   "source": [
    "from sklearn.model_selection import StratifiedKFold\n",
    "#se hacen los folds\n",
    "kfold = StratifiedKFold(n_splits=5).split(x_train_MLP,y_train)\n",
    "#vectores para guardar los resultados\n",
    "scores = []\n",
    "f1s=[]\n",
    "accs=[]\n",
    "y_pred=[]\n",
    "y_pruebas=[]\n",
    "for k, (train, test) in enumerate(kfold):\n",
    "    \n",
    "    #INICIAR LA RED\n",
    "    model1K = Sequential()\n",
    "    model1K.add(Dense(hidden_units, input_dim=input_size))\n",
    "    model1K.add(Activation('relu'))\n",
    "    model1K.add(Dropout(dropout))\n",
    "    model1K.add(Dense(num_labels))\n",
    "    model1K.add(Activation('softmax'))\n",
    "    model1K.summary()\n",
    "    model1K.compile(loss='binary_crossentropy', optimizer='adam', metrics=['accuracy'])\n",
    "    history4=model1K.fit(x_train_MLP[train], y_train_MLP[train],  batch_size=batch_size, epochs=epochs, validation_data=(x_test_MLP, y_test_MLP))\n",
    "    loss, score = model1K.evaluate(x_train_MLP[test], y_train_MLP[test])\n",
    "    scores.append(score)\n",
    "    \n",
    "    #CALCULAR MÉTRICAS\n",
    "    y_prueba=model1K.predict_classes(Prueba)    #10 predicciones de prueba\n",
    "    y_pruebas.append(y_prueba)\n",
    "    y_pred_MLP_Kfold = model1K.predict_classes(x_test_MLP)\n",
    "    f1=sklearn.metrics.f1_score(y_test, y_pred_MLP_Kfold, average='binary')\n",
    "    f1s.append(f1)\n",
    "    acc=sklearn.metrics.accuracy_score(y_test, y_pred_MLP_Kfold)\n",
    "    accs.append(acc)\n",
    "    y_pred.append(y_pred_MLP_Kfold)\n",
    "    \n",
    "    #GRÁFICOS\n",
    "    plt.plot(history4.history['accuracy'])\n",
    "    plt.plot(history4.history['val_accuracy'])\n",
    "    plt.title('Exactitud del modelo en el Test')\n",
    "    plt.ylabel('Exactitud')\n",
    "    plt.xlabel('Épocas')\n",
    "    plt.legend(['Entrenamiento', 'Test'], loc='upper left')\n",
    "    plt.show()\n",
    "    \n",
    "    plt.plot(history4.history['loss'])\n",
    "    plt.plot(history4.history['val_loss'])\n",
    "    plt.title('Función de Pérdida')\n",
    "    plt.ylabel('Valor de Pérdida')\n",
    "    plt.xlabel('Épocas')\n",
    "    plt.legend(['Entrenamiento', 'Test'], loc='upper left')\n",
    "    plt.show()\n",
    "    \n",
    "    # IMPRIMIR RESULTADOS\n",
    "    print('Fold: %2d, Class dist.: %s, Acc: %.3f' % (k+1,np.bincount(y_train[train]), score))\n",
    "    print('Fold: %2d, F1: %.3f' % ((k+1), f1))\n",
    "    print('Fold: %2d, Accuracy_: %.3f' % ((k+1), acc))\n"
   ]
  },
  {
   "cell_type": "markdown",
   "id": "4b3f9e95",
   "metadata": {},
   "source": [
    "# Predicciones\n",
    "Realizadas con la mejor red."
   ]
  },
  {
   "cell_type": "code",
   "execution_count": 24,
   "id": "e58efad6",
   "metadata": {},
   "outputs": [],
   "source": [
    "from sklearn.metrics import f1_score\n",
    "from sklearn.metrics import accuracy_score"
   ]
  },
  {
   "attachments": {
    "image.png": {
     "image/png": "[encoded data removed]"
    }
   },
   "cell_type": "markdown",
   "id": "3a28474e",
   "metadata": {},
   "source": [
    "\n",
    " ![image.png](attachment:image.png)"
   ]
  },
  {
   "cell_type": "markdown",
   "id": "df4eeda1",
   "metadata": {},
   "source": [
    "Accuracy_score = $\\dfrac{tp+tn}{tp+fp+tn+fn}$"
   ]
  },
  {
   "cell_type": "code",
   "execution_count": 25,
   "id": "3eda2248",
   "metadata": {},
   "outputs": [
    {
     "name": "stdout",
     "output_type": "stream",
     "text": [
      "0.8921320425579278\n"
     ]
    }
   ],
   "source": [
    "Prom_f1s=np.mean(f1s)\n",
    "print(Prom_f1s)\n",
    "f1s.append(Prom_f1s)"
   ]
  },
  {
   "cell_type": "code",
   "execution_count": 26,
   "id": "e51746f0",
   "metadata": {},
   "outputs": [
    {
     "name": "stdout",
     "output_type": "stream",
     "text": [
      "0.89133\n"
     ]
    }
   ],
   "source": [
    "Prom_accs=np.mean(accs)\n",
    "print(Prom_accs)\n",
    "accs.append(Prom_accs)"
   ]
  },
  {
   "cell_type": "code",
   "execution_count": 27,
   "id": "a939ffc5",
   "metadata": {},
   "outputs": [],
   "source": [
    "f1s2=np.matrix(f1s)\n",
    "accs2=np.matrix(accs)\n",
    "Prom=(f1s2+accs2)/2"
   ]
  },
  {
   "cell_type": "markdown",
   "id": "d1545ace",
   "metadata": {},
   "source": [
    "# Tabla comparativa"
   ]
  },
  {
   "cell_type": "code",
   "execution_count": 28,
   "id": "9cc5d683",
   "metadata": {},
   "outputs": [
    {
     "data": {
      "text/html": [
       "<div>\n",
       "<style scoped>\n",
       "    .dataframe tbody tr th:only-of-type {\n",
       "        vertical-align: middle;\n",
       "    }\n",
       "\n",
       "    .dataframe tbody tr th {\n",
       "        vertical-align: top;\n",
       "    }\n",
       "\n",
       "    .dataframe thead th {\n",
       "        text-align: right;\n",
       "    }\n",
       "</style>\n",
       "<table border=\"1\" class=\"dataframe\">\n",
       "  <thead>\n",
       "    <tr style=\"text-align: right;\">\n",
       "      <th></th>\n",
       "      <th>Fold</th>\n",
       "      <th>F1</th>\n",
       "      <th>Accuracy</th>\n",
       "      <th>Promedio</th>\n",
       "    </tr>\n",
       "  </thead>\n",
       "  <tbody>\n",
       "    <tr>\n",
       "      <th>0</th>\n",
       "      <td>1</td>\n",
       "      <td>0.891768</td>\n",
       "      <td>0.89100</td>\n",
       "      <td>[0.8913842220236323]</td>\n",
       "    </tr>\n",
       "    <tr>\n",
       "      <th>1</th>\n",
       "      <td>2</td>\n",
       "      <td>0.893111</td>\n",
       "      <td>0.89170</td>\n",
       "      <td>[0.8924054678247137]</td>\n",
       "    </tr>\n",
       "    <tr>\n",
       "      <th>2</th>\n",
       "      <td>3</td>\n",
       "      <td>0.892007</td>\n",
       "      <td>0.89110</td>\n",
       "      <td>[0.8915535700119]</td>\n",
       "    </tr>\n",
       "    <tr>\n",
       "      <th>3</th>\n",
       "      <td>4</td>\n",
       "      <td>0.891799</td>\n",
       "      <td>0.89175</td>\n",
       "      <td>[0.8917743452946174]</td>\n",
       "    </tr>\n",
       "    <tr>\n",
       "      <th>4</th>\n",
       "      <td>5</td>\n",
       "      <td>0.891975</td>\n",
       "      <td>0.89110</td>\n",
       "      <td>[0.8915375012399563]</td>\n",
       "    </tr>\n",
       "    <tr>\n",
       "      <th>5</th>\n",
       "      <td>Promedio</td>\n",
       "      <td>0.892132</td>\n",
       "      <td>0.89133</td>\n",
       "      <td>[0.8917310212789639]</td>\n",
       "    </tr>\n",
       "  </tbody>\n",
       "</table>\n",
       "</div>"
      ],
      "text/plain": [
       "       Fold        F1  Accuracy              Promedio\n",
       "0         1  0.891768   0.89100  [0.8913842220236323]\n",
       "1         2  0.893111   0.89170  [0.8924054678247137]\n",
       "2         3  0.892007   0.89110     [0.8915535700119]\n",
       "3         4  0.891799   0.89175  [0.8917743452946174]\n",
       "4         5  0.891975   0.89110  [0.8915375012399563]\n",
       "5  Promedio  0.892132   0.89133  [0.8917310212789639]"
      ]
     },
     "execution_count": 28,
     "metadata": {},
     "output_type": "execute_result"
    }
   ],
   "source": [
    "d = {'Fold':['1','2','3','4','5','Promedio'],'F1': f1s, 'Accuracy': accs, 'Promedio':Prom.T.tolist()}\n",
    "\n",
    "df = pd.DataFrame(data=d)\n",
    "df"
   ]
  },
  {
   "cell_type": "markdown",
   "id": "f54d5e6f",
   "metadata": {},
   "source": [
    "## Para esta red, el mejor fue el fold 2"
   ]
  },
  {
   "cell_type": "markdown",
   "id": "68127538",
   "metadata": {},
   "source": [
    "# El módelo con mejor rendimiento fue MLP\n",
    "Veamos 10 predicciones"
   ]
  },
  {
   "cell_type": "code",
   "execution_count": 43,
   "id": "bceb1a6f",
   "metadata": {},
   "outputs": [
    {
     "data": {
      "text/plain": [
       "array([1, 0, 0, 1, 0, 1, 1, 1, 1, 1], dtype=int64)"
      ]
     },
     "execution_count": 43,
     "metadata": {},
     "output_type": "execute_result"
    }
   ],
   "source": [
    "# vector que contiene las predicciones del mejor k.fold de las 10 primeras reviews de la base (el fold 2, es el vector \n",
    "# en la posicion 1)\n",
    "y_pruebas[1]"
   ]
  },
  {
   "cell_type": "code",
   "execution_count": 30,
   "id": "58c8d3e8",
   "metadata": {},
   "outputs": [],
   "source": [
    "df=pd.read_csv(r'C:\\Users\\paz_e\\Downloads\\movies_reviews.csv')"
   ]
  },
  {
   "cell_type": "code",
   "execution_count": 31,
   "id": "2ccc7d34",
   "metadata": {
    "scrolled": true
   },
   "outputs": [
    {
     "data": {
      "text/html": [
       "<div>\n",
       "<style scoped>\n",
       "    .dataframe tbody tr th:only-of-type {\n",
       "        vertical-align: middle;\n",
       "    }\n",
       "\n",
       "    .dataframe tbody tr th {\n",
       "        vertical-align: top;\n",
       "    }\n",
       "\n",
       "    .dataframe thead th {\n",
       "        text-align: right;\n",
       "    }\n",
       "</style>\n",
       "<table border=\"1\" class=\"dataframe\">\n",
       "  <thead>\n",
       "    <tr style=\"text-align: right;\">\n",
       "      <th></th>\n",
       "      <th>review</th>\n",
       "      <th>sentiment</th>\n",
       "    </tr>\n",
       "  </thead>\n",
       "  <tbody>\n",
       "    <tr>\n",
       "      <th>0</th>\n",
       "      <td>In 1974, the teenager Martha Moxley (Maggie Gr...</td>\n",
       "      <td>1</td>\n",
       "    </tr>\n",
       "    <tr>\n",
       "      <th>1</th>\n",
       "      <td>OK... so... I really like Kris Kristofferson a...</td>\n",
       "      <td>0</td>\n",
       "    </tr>\n",
       "    <tr>\n",
       "      <th>2</th>\n",
       "      <td>***SPOILER*** Do not read this, if you think a...</td>\n",
       "      <td>0</td>\n",
       "    </tr>\n",
       "    <tr>\n",
       "      <th>3</th>\n",
       "      <td>hi for all the people who have seen this wonde...</td>\n",
       "      <td>1</td>\n",
       "    </tr>\n",
       "    <tr>\n",
       "      <th>4</th>\n",
       "      <td>I recently bought the DVD, forgetting just how...</td>\n",
       "      <td>0</td>\n",
       "    </tr>\n",
       "    <tr>\n",
       "      <th>5</th>\n",
       "      <td>Leave it to Braik to put on a good show. Final...</td>\n",
       "      <td>1</td>\n",
       "    </tr>\n",
       "    <tr>\n",
       "      <th>6</th>\n",
       "      <td>Nathan Detroit (Frank Sinatra) is the manager ...</td>\n",
       "      <td>1</td>\n",
       "    </tr>\n",
       "    <tr>\n",
       "      <th>7</th>\n",
       "      <td>To understand \"Crash Course\" in the right cont...</td>\n",
       "      <td>1</td>\n",
       "    </tr>\n",
       "    <tr>\n",
       "      <th>8</th>\n",
       "      <td>I've been impressed with Chavez's stance again...</td>\n",
       "      <td>1</td>\n",
       "    </tr>\n",
       "    <tr>\n",
       "      <th>9</th>\n",
       "      <td>This movie is directed by Renny Harlin the fin...</td>\n",
       "      <td>1</td>\n",
       "    </tr>\n",
       "  </tbody>\n",
       "</table>\n",
       "</div>"
      ],
      "text/plain": [
       "                                              review  sentiment\n",
       "0  In 1974, the teenager Martha Moxley (Maggie Gr...          1\n",
       "1  OK... so... I really like Kris Kristofferson a...          0\n",
       "2  ***SPOILER*** Do not read this, if you think a...          0\n",
       "3  hi for all the people who have seen this wonde...          1\n",
       "4  I recently bought the DVD, forgetting just how...          0\n",
       "5  Leave it to Braik to put on a good show. Final...          1\n",
       "6  Nathan Detroit (Frank Sinatra) is the manager ...          1\n",
       "7  To understand \"Crash Course\" in the right cont...          1\n",
       "8  I've been impressed with Chavez's stance again...          1\n",
       "9  This movie is directed by Renny Harlin the fin...          1"
      ]
     },
     "execution_count": 31,
     "metadata": {},
     "output_type": "execute_result"
    }
   ],
   "source": [
    "df[:10]"
   ]
  },
  {
   "cell_type": "markdown",
   "id": "8e5baf22",
   "metadata": {},
   "source": [
    "## Review 0: Sentimiento=1, predicción=1"
   ]
  },
  {
   "cell_type": "code",
   "execution_count": 32,
   "id": "f8b78633",
   "metadata": {},
   "outputs": [
    {
     "data": {
      "text/plain": [
       "'In 1974, the teenager Martha Moxley (Maggie Grace) moves to the high-class area of Belle Haven, Greenwich, Connecticut. On the Mischief Night, eve of Halloween, she was murdered in the backyard of her house and her murder remained unsolved. Twenty-two years later, the writer Mark Fuhrman (Christopher Meloni), who is a former LA detective that has fallen in disgrace for perjury in O.J. Simpson trial and moved to Idaho, decides to investigate the case with his partner Stephen Weeks (Andrew Mitchell) with the purpose of writing a book. The locals squirm and do not welcome them, but with the support of the retired detective Steve Carroll (Robert Forster) that was in charge of the investigation in the 70\\'s, they discover the criminal and a net of power and money to cover the murder.<br /><br />\"Murder in Greenwich\" is a good TV movie, with the true story of a murder of a fifteen years old girl that was committed by a wealthy teenager whose mother was a Kennedy. The powerful and rich family used their influence to cover the murder for more than twenty years. However, a snoopy detective and convicted perjurer in disgrace was able to disclose how the hideous crime was committed. The screenplay shows the investigation of Mark and the last days of Martha in parallel, but there is a lack of the emotion in the dramatization. My vote is seven.<br /><br />Title (Brazil): Not Available'"
      ]
     },
     "execution_count": 32,
     "metadata": {},
     "output_type": "execute_result"
    }
   ],
   "source": [
    "df.review[0]"
   ]
  },
  {
   "cell_type": "markdown",
   "id": "642fdc5e",
   "metadata": {},
   "source": [
    "## Review 1: Sentimiento=0, predicción=0"
   ]
  },
  {
   "cell_type": "code",
   "execution_count": 33,
   "id": "ddbf19b0",
   "metadata": {},
   "outputs": [
    {
     "data": {
      "text/plain": [
       "\"OK... so... I really like Kris Kristofferson and his usual easy going delivery of lines in his movies. Age has helped him with his soft spoken low energy style and he will steal a scene effortlessly. But, Disappearance is his misstep. Holy Moly, this was a bad movie! <br /><br />I must give kudos to the cinematography and and the actors, including Kris, for trying their darndest to make sense from this goofy, confusing story! None of it made sense and Kris probably didn't understand it either and he was just going through the motions hoping someone would come up to him and tell him what it was all about! <br /><br />I don't care that everyone on this movie was doing out of love for the project, or some such nonsense... I've seen low budget movies that had a plot for goodness sake! This had none, zilcho, nada, zippo, empty of reason... a complete waste of good talent, scenery and celluloid! <br /><br />I rented this piece of garbage for a buck, and I want my money back! I want my 2 hours back I invested on this Grade F waste of my time! Don't watch this movie, or waste 1 minute of your valuable time while passing through a room where it's playing or even open up the case that is holding the DVD! Believe me, you'll thank me for the advice!\""
      ]
     },
     "execution_count": 33,
     "metadata": {},
     "output_type": "execute_result"
    }
   ],
   "source": [
    "df.review[1]"
   ]
  },
  {
   "cell_type": "markdown",
   "id": "711af1b4",
   "metadata": {},
   "source": [
    "## Review 2: Sentimiento=0, predicción=0"
   ]
  },
  {
   "cell_type": "code",
   "execution_count": 34,
   "id": "abf5ed90",
   "metadata": {},
   "outputs": [
    {
     "data": {
      "text/plain": [
       "'***SPOILER*** Do not read this, if you think about watching that movie, although it would be a waste of time. (By the way: The plot is so predictable that it does not make any difference if you read this or not anyway)<br /><br />If you are wondering whether to see \"Coyote Ugly\" or not: don\\'t! It\\'s not worth either the money for the ticket or the VHS / DVD. A typical \"Chick-Feel-Good-Flick\", one could say. The plot itself is as shallow as it can be, a ridiculous and uncritical version of the American Dream. The young good-looking girl from a small town becoming a big success in New York. The few desperate attempts of giving the movie any depth fail, such as the \"tragic\" accident of the father, the \"difficulties\" of Violet\\'s relationship with her boyfriend, and so on. McNally (Director) tries to arouse the audience\\'s pity and sadness put does not have any chance to succeed in this attempt due to the bad script and the shallow acting. Especially Piper Perabo completely fails in convincing one of \"Jersey\\'s\" fear of singing in front of an audience. The only good (and quite funny thing) about \"Coyote Ugly\" is John Goodman, who represents the small ray of hope of this movie.<br /><br />I was very astonished, that Jerry Bruckheimer produced this movie. First \"Gone In 60 Seconds\" and now this... what happened to great movies like \"The Rock\" and \"Con Air\"? THAT was true Bruckheimer stuff.<br /><br />If you are looking for a superficial movie with good looking women just to have a relaxed evening, you should better go and see \"Charlie\\'s Angels\" (it\\'s much more funny, entertaining and self-ironic) instead of this flick.<br /><br />Two thumbs down (3 out of 10).'"
      ]
     },
     "execution_count": 34,
     "metadata": {},
     "output_type": "execute_result"
    }
   ],
   "source": [
    "df.review[2]"
   ]
  },
  {
   "cell_type": "markdown",
   "id": "d2586409",
   "metadata": {},
   "source": [
    "## Review 3: Sentimiento=1, predicción=1"
   ]
  },
  {
   "cell_type": "code",
   "execution_count": 35,
   "id": "72cb72d5",
   "metadata": {},
   "outputs": [
    {
     "data": {
      "text/plain": [
       "'hi for all the people who have seen this wonderful movie im sure thet you would have liked it as much as i. i love the songs once you have seen the show you can sing along as though you are part of the show singing and dancing . dancing and singing. the song ONE is an all time fave musical song too and the strutters at the end with the mirror its so oh you have to watch this one'"
      ]
     },
     "execution_count": 35,
     "metadata": {},
     "output_type": "execute_result"
    }
   ],
   "source": [
    "df.review[3]"
   ]
  },
  {
   "cell_type": "markdown",
   "id": "fe3bcee0",
   "metadata": {},
   "source": [
    "## Review 4: Sentimiento=0, predicción=0"
   ]
  },
  {
   "cell_type": "code",
   "execution_count": 36,
   "id": "e69b71f0",
   "metadata": {},
   "outputs": [
    {
     "data": {
      "text/plain": [
       "'I recently bought the DVD, forgetting just how much I hated the movie version of \"A Chorus Line.\" Every change the director Attenborough made to the story failed.<br /><br />By making the Director-Cassie relationship so prominent, the entire ensemble-premise of the musical sails out the window.<br /><br />Some of the musical numbers are sped up and rushed. The show\\'s hit song gets the entire meaning shattered when it is given to Cassie\\'s character.<br /><br />The overall staging is very self-conscious.<br /><br />The only reason I give it a 2, is because a few of the great numbers are still able to be enjoyed despite the film\\'s attempt to squeeze every bit of joy and spontaneity out of it.'"
      ]
     },
     "execution_count": 36,
     "metadata": {},
     "output_type": "execute_result"
    }
   ],
   "source": [
    "df.review[4]"
   ]
  },
  {
   "cell_type": "markdown",
   "id": "db947f5b",
   "metadata": {},
   "source": [
    "## Review 5: Sentimiento=1, predicción=1"
   ]
  },
  {
   "cell_type": "code",
   "execution_count": 37,
   "id": "2ef98c93",
   "metadata": {},
   "outputs": [
    {
     "data": {
      "text/plain": [
       "\"Leave it to Braik to put on a good show. Finally he and Zorak are living their own lives outside of Spac Ghost Coast To Coast. I have to say that I love both of these shows a whole lot. They are completely what started Adult Swim. Brak made it big with an album that came out in the year 2000. It may not have been platinum, but his show was really popular to tons of people out there that love Adult Swims shows. I have to say that out of all the Adult Swim shows with no plot, this has to be the one with the most none plot ever made. That is why I like it so much, it is just such a classic in the Adult Swim history. I believe this is just such a great show, if you don't like it. Hey there were tons who hated it and tons who loved it.\""
      ]
     },
     "execution_count": 37,
     "metadata": {},
     "output_type": "execute_result"
    }
   ],
   "source": [
    "df.review[5]"
   ]
  },
  {
   "cell_type": "markdown",
   "id": "383f01d4",
   "metadata": {},
   "source": [
    "## Review 6: Sentimiento=1, predicción=1"
   ]
  },
  {
   "cell_type": "code",
   "execution_count": 38,
   "id": "d99cb1c4",
   "metadata": {},
   "outputs": [
    {
     "data": {
      "text/plain": [
       "'Nathan Detroit (Frank Sinatra) is the manager of the New York\\'s longest- established floating craps game, and he needs $1000 to secure a new location. Confident of his odds, he bets the city\\'s highest-roller, Sky Masterson (Marlon Brando), that he can\\'t woo uptight missionary Sarah Brown (Jean Simmons). \\'Guys and Dolls (1955)\\' is such a great musical because it deftly blends the contrasting styles of film and stage. During a dazzling opening sequence, crowds of pedestrians move in rhythm, stopping and starting as though responding to backstage cues. Even the walking movements themselves are stylised and angular, halfway between a walk and a dance. Mankiewicz\\'s New York City is a glittering flurry of art deco colour and movement, a fantasy world so completely removed from reality that even the business of underground gambling and criminal thuggery seems perfectly genial. <br /><br />As I write this review, I\\'ve just received word that Jean Simmons has passed away, age 80. This, unbelievably, was the first time I\\'d seen her in a film, yet she dazzled me from the beginning. Her idealistic and sexually-repressed Sarah comes out of her shell following an alcohol binge in Havana, letting loose with an adorably playful rendition of \"If I Were A Bell.\" Even though both Simmons and Brando were non-singers, producer Sam Goldwyn decided not to dub their vocals, contending that \"maybe you don\\'t sound so good, but at least it\\'s you.\" Despite Goldwyn\\'s backhanded confidence, the pair both do well to carry entire musical numbers themselves. Simmons suggests the same child-like liveliness that Audrey Hepburn might have brought to the role, and Brando exudes such self-assurance and charisma that it doesn\\'t matter that his singing voice isn\\'t quite there.'"
      ]
     },
     "execution_count": 38,
     "metadata": {},
     "output_type": "execute_result"
    }
   ],
   "source": [
    "df.review[6]"
   ]
  },
  {
   "cell_type": "markdown",
   "id": "90c28378",
   "metadata": {},
   "source": [
    "## Review 7: Sentimiento=1, predicción=1"
   ]
  },
  {
   "cell_type": "code",
   "execution_count": 39,
   "id": "9c418b15",
   "metadata": {},
   "outputs": [
    {
     "data": {
      "text/plain": [
       "'To understand \"Crash Course\" in the right context, you must understand the 80\\'s in TV. Most TV shows didn\\'t have any point. The sitcom outpopulated the drama at least 3 to 1. They were still figuring out where the lines were so that they could cross them. (TV Shows like \"Hail to the Chief\" was quite the bold step!) This made-for-TV movie \"Crash Course\" featured an All-Star cast, bringing together members from all the 80\\'s classics: \"227\", \"Family Ties\", \"Who\\'s the Boss?\", et al. Directors must\\'ve had a certain penchant for those all-star movies then. Still, this movie offered very light fare and a simplistic view of heroism and maturity. And that\\'s not bad sometimes. Viva Soleil Moon Frye.'"
      ]
     },
     "execution_count": 39,
     "metadata": {},
     "output_type": "execute_result"
    }
   ],
   "source": [
    "df.review[7]"
   ]
  },
  {
   "cell_type": "markdown",
   "id": "c05bd8bb",
   "metadata": {},
   "source": [
    "## Review 8: Sentimiento=1, predicción=1"
   ]
  },
  {
   "cell_type": "code",
   "execution_count": 40,
   "id": "c9593bae",
   "metadata": {},
   "outputs": [
    {
     "data": {
      "text/plain": [
       "\"I've been impressed with Chavez's stance against globalisation for sometime now, but it wasn't until I saw the film at the Amsterdam documentary international film festival that I realize what he has really achieved. This film tells the story of coup/conspiracy by Venezuela's elite, the oil companies and oil loving corrupt western governments, to remove democratically elected president Chavez, and return Venezuela back to a brutal dictatorship. This film is must for anyone who believes in freedom and justice, and is also a lesson to the rest of world ! I commend the people of Venezuela for taking matter into their own hands, and saving their country from the likes of Halliburton and the Bush regime.\""
      ]
     },
     "execution_count": 40,
     "metadata": {},
     "output_type": "execute_result"
    }
   ],
   "source": [
    "df.review[8]"
   ]
  },
  {
   "cell_type": "markdown",
   "id": "ffcf9719",
   "metadata": {},
   "source": [
    "## Review 9: Sentimiento=1, predicción=1"
   ]
  },
  {
   "cell_type": "code",
   "execution_count": 41,
   "id": "c6e9f5b3",
   "metadata": {},
   "outputs": [
    {
     "data": {
      "text/plain": [
       "'This movie is directed by Renny Harlin the finnish miracle. Stallone is Gabe Walker. Cat and Mouse on the mountains with ruthless terrorists. Renny Harlin knows how to direct actionmovie. Stallone needed this role to get back on track. Snowy mountain is very good place for action movie and who is better to direct movie where is snow, ice, cold and bad weather than finnish man. Action is good! Music in the film is spectacular. The bad guy is John Litghow, other stars Micheal Rooker ( The portrait of serialkiller), Janine Turner ( Strong Medicine). The is placed in beautiful place and it is very exciting movie. Overall good movie ****/*****<br /><br />Remember Extreme ääliöt: special collectors edition, with good extras. Comig soon in Finland straight to video.'"
      ]
     },
     "execution_count": 41,
     "metadata": {},
     "output_type": "execute_result"
    }
   ],
   "source": [
    "df.review[9]"
   ]
  }
 ],
 "metadata": {
  "kernelspec": {
   "display_name": "Python 3",
   "language": "python",
   "name": "python3"
  },
  "language_info": {
   "codemirror_mode": {
    "name": "ipython",
    "version": 3
   },
   "file_extension": ".py",
   "mimetype": "text/x-python",
   "name": "python",
   "nbconvert_exporter": "python",
   "pygments_lexer": "ipython3",
   "version": "3.8.8"
  }
 },
 "nbformat": 4,
 "nbformat_minor": 5
}
